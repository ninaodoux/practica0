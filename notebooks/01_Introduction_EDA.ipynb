{
 "cells": [
  {
   "cell_type": "code",
   "execution_count": 1,
   "id": "2034a103-d246-483f-a174-25752b814755",
   "metadata": {},
   "outputs": [],
   "source": [
    "import pandas as pd"
   ]
  },
  {
   "cell_type": "code",
   "execution_count": 2,
   "id": "ccaf730e-09f4-4718-b869-e8978256d488",
   "metadata": {},
   "outputs": [],
   "source": [
    "import sweetviz as sv"
   ]
  },
  {
   "cell_type": "code",
   "execution_count": 3,
   "id": "869e23c2-eeb4-46b9-8105-0a75c6db8a73",
   "metadata": {},
   "outputs": [
    {
     "name": "stdout",
     "output_type": "stream",
     "text": [
      "          id  member_id  loan_amnt  funded_amnt  funded_amnt_inv        term  \\\n",
      "0  104046719        NaN    14000.0      14000.0          14000.0   36 months   \n",
      "1  104048967        NaN     5000.0       5000.0           5000.0   36 months   \n",
      "2  104028593        NaN     4600.0       4600.0           4600.0   36 months   \n",
      "3  104046702        NaN    14000.0      14000.0          14000.0   60 months   \n",
      "4  104280113        NaN    15000.0      15000.0          15000.0   36 months   \n",
      "\n",
      "  int_rate  installment grade sub_grade  ... hardship_payoff_balance_amount  \\\n",
      "0   15.99%       492.13     C        C5  ...                            NaN   \n",
      "1   25.49%       200.10     E        E4  ...                            NaN   \n",
      "2   11.39%       151.45     B        B3  ...                            NaN   \n",
      "3   12.74%       316.69     C        C1  ...                            NaN   \n",
      "4    5.32%       451.73     A        A1  ...                            NaN   \n",
      "\n",
      "  hardship_last_payment_amount disbursement_method  debt_settlement_flag  \\\n",
      "0                          NaN                Cash                     N   \n",
      "1                          NaN                Cash                     N   \n",
      "2                          NaN                Cash                     N   \n",
      "3                          NaN                Cash                     N   \n",
      "4                          NaN                Cash                     N   \n",
      "\n",
      "  debt_settlement_flag_date settlement_status settlement_date  \\\n",
      "0                       NaN               NaN             NaN   \n",
      "1                       NaN               NaN             NaN   \n",
      "2                       NaN               NaN             NaN   \n",
      "3                       NaN               NaN             NaN   \n",
      "4                       NaN               NaN             NaN   \n",
      "\n",
      "  settlement_amount settlement_percentage  settlement_term  \n",
      "0               NaN                   NaN              NaN  \n",
      "1               NaN                   NaN              NaN  \n",
      "2               NaN                   NaN              NaN  \n",
      "3               NaN                   NaN              NaN  \n",
      "4               NaN                   NaN              NaN  \n",
      "\n",
      "[5 rows x 151 columns]\n"
     ]
    }
   ],
   "source": [
    "# Ruta URL hacia el archivo en mi repositorio de GitHub\n",
    "url = 'https://github.com/ninaodoux/practica0/raw/main/data/Loan_test_set.csv'\n",
    "\n",
    "# Leer el archivo CSV desde GitHub, url seria la ruta de github previamente asignada\n",
    "df = pd.read_csv(url, sep=',', low_memory=False, skiprows=1)\n",
    "\n",
    "# Mostrar las primeras filas\n",
    "print(df.head())\n"
   ]
  },
  {
   "cell_type": "code",
   "execution_count": 4,
   "id": "55041bd6-ea62-48d5-873b-051ca76b193f",
   "metadata": {},
   "outputs": [
    {
     "name": "stdout",
     "output_type": "stream",
     "text": [
      "id                        object\n",
      "member_id                float64\n",
      "loan_amnt                float64\n",
      "funded_amnt              float64\n",
      "funded_amnt_inv          float64\n",
      "                          ...   \n",
      "settlement_status         object\n",
      "settlement_date           object\n",
      "settlement_amount        float64\n",
      "settlement_percentage    float64\n",
      "settlement_term          float64\n",
      "Length: 151, dtype: object\n",
      "Index(['id', 'member_id', 'loan_amnt', 'funded_amnt', 'funded_amnt_inv',\n",
      "       'term', 'int_rate', 'installment', 'grade', 'sub_grade',\n",
      "       ...\n",
      "       'hardship_payoff_balance_amount', 'hardship_last_payment_amount',\n",
      "       'disbursement_method', 'debt_settlement_flag',\n",
      "       'debt_settlement_flag_date', 'settlement_status', 'settlement_date',\n",
      "       'settlement_amount', 'settlement_percentage', 'settlement_term'],\n",
      "      dtype='object', length=151)\n"
     ]
    }
   ],
   "source": [
    "print(df.dtypes)\n",
    "\n",
    "print(df.columns)"
   ]
  },
  {
   "cell_type": "code",
   "execution_count": 5,
   "id": "41dc5ba8-a49b-4380-8bbe-be5c03af4837",
   "metadata": {},
   "outputs": [
    {
     "name": "stdout",
     "output_type": "stream",
     "text": [
      "          id  member_id  loan_amnt  funded_amnt  funded_amnt_inv        term  \\\n",
      "0  104046719        NaN    14000.0      14000.0          14000.0   36 months   \n",
      "1  104048967        NaN     5000.0       5000.0           5000.0   36 months   \n",
      "2  104028593        NaN     4600.0       4600.0           4600.0   36 months   \n",
      "3  104046702        NaN    14000.0      14000.0          14000.0   60 months   \n",
      "4  104280113        NaN    15000.0      15000.0          15000.0   36 months   \n",
      "\n",
      "  int_rate  installment grade sub_grade  ... hardship_payoff_balance_amount  \\\n",
      "0   15.99%       492.13     C        C5  ...                            NaN   \n",
      "1   25.49%       200.10     E        E4  ...                            NaN   \n",
      "2   11.39%       151.45     B        B3  ...                            NaN   \n",
      "3   12.74%       316.69     C        C1  ...                            NaN   \n",
      "4    5.32%       451.73     A        A1  ...                            NaN   \n",
      "\n",
      "  hardship_last_payment_amount disbursement_method  debt_settlement_flag  \\\n",
      "0                          NaN                Cash                     N   \n",
      "1                          NaN                Cash                     N   \n",
      "2                          NaN                Cash                     N   \n",
      "3                          NaN                Cash                     N   \n",
      "4                          NaN                Cash                     N   \n",
      "\n",
      "  debt_settlement_flag_date settlement_status settlement_date  \\\n",
      "0                       NaN               NaN             NaN   \n",
      "1                       NaN               NaN             NaN   \n",
      "2                       NaN               NaN             NaN   \n",
      "3                       NaN               NaN             NaN   \n",
      "4                       NaN               NaN             NaN   \n",
      "\n",
      "  settlement_amount settlement_percentage  settlement_term  \n",
      "0               NaN                   NaN              NaN  \n",
      "1               NaN                   NaN              NaN  \n",
      "2               NaN                   NaN              NaN  \n",
      "3               NaN                   NaN              NaN  \n",
      "4               NaN                   NaN              NaN  \n",
      "\n",
      "[5 rows x 151 columns]\n"
     ]
    }
   ],
   "source": [
    "print(df.head())"
   ]
  },
  {
   "cell_type": "code",
   "execution_count": 6,
   "id": "bf51be27-3b4c-492a-a7cc-e357e35a082e",
   "metadata": {},
   "outputs": [
    {
     "name": "stdout",
     "output_type": "stream",
     "text": [
      "                                                     id  member_id  loan_amnt  \\\n",
      "96776                                          94477589        NaN    10000.0   \n",
      "96777                                          94048859        NaN     6325.0   \n",
      "96778                                          94038849        NaN    15625.0   \n",
      "96779  Total amount funded in policy code 1: 1437969475        NaN        NaN   \n",
      "96780   Total amount funded in policy code 2: 520780182        NaN        NaN   \n",
      "\n",
      "       funded_amnt  funded_amnt_inv        term int_rate  installment grade  \\\n",
      "96776      10000.0          10000.0   36 months    8.24%       314.48     B   \n",
      "96777       6325.0           6325.0   36 months   15.99%       222.34     C   \n",
      "96778      15625.0          15625.0   60 months   28.69%       493.03     F   \n",
      "96779          NaN              NaN         NaN      NaN          NaN   NaN   \n",
      "96780          NaN              NaN         NaN      NaN          NaN   NaN   \n",
      "\n",
      "      sub_grade  ... hardship_payoff_balance_amount  \\\n",
      "96776        B1  ...                            NaN   \n",
      "96777        C5  ...                            NaN   \n",
      "96778        F1  ...                            NaN   \n",
      "96779       NaN  ...                            NaN   \n",
      "96780       NaN  ...                            NaN   \n",
      "\n",
      "      hardship_last_payment_amount disbursement_method  debt_settlement_flag  \\\n",
      "96776                          NaN                Cash                     N   \n",
      "96777                          NaN                Cash                     N   \n",
      "96778                          NaN                Cash                     N   \n",
      "96779                          NaN                 NaN                   NaN   \n",
      "96780                          NaN                 NaN                   NaN   \n",
      "\n",
      "      debt_settlement_flag_date settlement_status settlement_date  \\\n",
      "96776                       NaN               NaN             NaN   \n",
      "96777                       NaN               NaN             NaN   \n",
      "96778                       NaN               NaN             NaN   \n",
      "96779                       NaN               NaN             NaN   \n",
      "96780                       NaN               NaN             NaN   \n",
      "\n",
      "      settlement_amount settlement_percentage  settlement_term  \n",
      "96776               NaN                   NaN              NaN  \n",
      "96777               NaN                   NaN              NaN  \n",
      "96778               NaN                   NaN              NaN  \n",
      "96779               NaN                   NaN              NaN  \n",
      "96780               NaN                   NaN              NaN  \n",
      "\n",
      "[5 rows x 151 columns]\n",
      "<class 'pandas.core.frame.DataFrame'>\n",
      "RangeIndex: 96781 entries, 0 to 96780\n",
      "Columns: 151 entries, id to settlement_term\n",
      "dtypes: float64(112), object(39)\n",
      "memory usage: 111.5+ MB\n",
      "None\n"
     ]
    }
   ],
   "source": [
    "print(df.tail())\n",
    "print(df.info())"
   ]
  },
  {
   "cell_type": "code",
   "execution_count": 7,
   "id": "fd3afc84-5e5a-4acd-919a-a48ede3ca05b",
   "metadata": {},
   "outputs": [],
   "source": [
    "pd.set_option('display.max_rows', None)"
   ]
  },
  {
   "cell_type": "code",
   "execution_count": 8,
   "id": "3149f669-d31c-4d79-82da-ee9333c629c8",
   "metadata": {},
   "outputs": [
    {
     "name": "stdout",
     "output_type": "stream",
     "text": [
      "              id  member_id  loan_amnt  funded_amnt  funded_amnt_inv  \\\n",
      "50325   97942864        NaN    12000.0      12000.0          12000.0   \n",
      "3640   103527598        NaN     6000.0       6000.0           6000.0   \n",
      "75636   96860442        NaN    15000.0      15000.0          15000.0   \n",
      "77347   96592244        NaN    30000.0      30000.0          30000.0   \n",
      "34435  100133729        NaN     8000.0       8000.0           8000.0   \n",
      "5037   102955620        NaN    11200.0      11200.0          11200.0   \n",
      "92511   95033090        NaN    30000.0      30000.0          30000.0   \n",
      "63903   96793470        NaN    10000.0      10000.0          10000.0   \n",
      "40806   99252144        NaN     9000.0       9000.0           9000.0   \n",
      "80235   96696106        NaN     8000.0       8000.0           8000.0   \n",
      "60723   97259889        NaN     3600.0       3600.0           3600.0   \n",
      "9857   102427356        NaN     5000.0       5000.0           5000.0   \n",
      "72068   96509405        NaN     4000.0       4000.0           4000.0   \n",
      "11694  100451679        NaN     3200.0       3200.0           3200.0   \n",
      "87682   96295636        NaN     2400.0       2400.0           2400.0   \n",
      "60760   97293771        NaN     3000.0       3000.0           3000.0   \n",
      "21584  100033523        NaN    12000.0      12000.0          12000.0   \n",
      "25828   99798801        NaN     5300.0       5300.0           5300.0   \n",
      "63638   97535530        NaN    35000.0      35000.0          35000.0   \n",
      "30717   99227089        NaN     4275.0       4275.0           4275.0   \n",
      "\n",
      "             term int_rate  installment grade sub_grade  ...  \\\n",
      "50325   36 months    7.49%       373.22     A        A4  ...   \n",
      "3640    36 months   11.49%       197.83     B        B5  ...   \n",
      "75636   60 months   15.99%       364.70     C        C5  ...   \n",
      "77347   36 months   11.39%       987.72     B        B3  ...   \n",
      "34435   36 months    6.99%       246.99     A        A2  ...   \n",
      "5037    60 months   16.99%       278.29     D        D1  ...   \n",
      "92511   36 months   12.74%      1007.07     C        C1  ...   \n",
      "63903   36 months   17.99%       361.48     D        D2  ...   \n",
      "40806   36 months   14.99%       311.95     C        C4  ...   \n",
      "80235   36 months   11.44%       263.58     B        B4  ...   \n",
      "60723   36 months   11.44%       118.62     B        B4  ...   \n",
      "9857    36 months   11.39%       164.62     B        B3  ...   \n",
      "72068   36 months   13.99%       136.70     C        C3  ...   \n",
      "11694   36 months   28.69%       133.56     F        F1  ...   \n",
      "87682   36 months    8.24%        75.48     B        B1  ...   \n",
      "60760   36 months   11.44%        98.85     B        B4  ...   \n",
      "21584   60 months   13.49%       276.06     C        C2  ...   \n",
      "25828   36 months    7.99%       166.06     A        A5  ...   \n",
      "63638   60 months   15.99%       850.95     C        C5  ...   \n",
      "30717   36 months   15.99%       150.28     C        C5  ...   \n",
      "\n",
      "      hardship_payoff_balance_amount hardship_last_payment_amount  \\\n",
      "50325                            NaN                          NaN   \n",
      "3640                             NaN                          NaN   \n",
      "75636                            NaN                          NaN   \n",
      "77347                            NaN                          NaN   \n",
      "34435                            NaN                          NaN   \n",
      "5037                             NaN                          NaN   \n",
      "92511                            NaN                          NaN   \n",
      "63903                            NaN                          NaN   \n",
      "40806                            NaN                          NaN   \n",
      "80235                            NaN                          NaN   \n",
      "60723                            NaN                          NaN   \n",
      "9857                             NaN                          NaN   \n",
      "72068                            NaN                          NaN   \n",
      "11694                            NaN                          NaN   \n",
      "87682                            NaN                          NaN   \n",
      "60760                            NaN                          NaN   \n",
      "21584                            NaN                          NaN   \n",
      "25828                            NaN                          NaN   \n",
      "63638                            NaN                          NaN   \n",
      "30717                            NaN                          NaN   \n",
      "\n",
      "      disbursement_method  debt_settlement_flag debt_settlement_flag_date  \\\n",
      "50325                Cash                     N                       NaN   \n",
      "3640                 Cash                     N                       NaN   \n",
      "75636                Cash                     N                       NaN   \n",
      "77347                Cash                     N                       NaN   \n",
      "34435                Cash                     N                       NaN   \n",
      "5037                 Cash                     N                       NaN   \n",
      "92511                Cash                     N                       NaN   \n",
      "63903                Cash                     N                       NaN   \n",
      "40806                Cash                     N                       NaN   \n",
      "80235                Cash                     N                       NaN   \n",
      "60723                Cash                     N                       NaN   \n",
      "9857                 Cash                     N                       NaN   \n",
      "72068                Cash                     N                       NaN   \n",
      "11694                Cash                     N                       NaN   \n",
      "87682                Cash                     N                       NaN   \n",
      "60760                Cash                     N                       NaN   \n",
      "21584                Cash                     N                       NaN   \n",
      "25828                Cash                     N                       NaN   \n",
      "63638                Cash                     N                       NaN   \n",
      "30717                Cash                     N                       NaN   \n",
      "\n",
      "      settlement_status settlement_date settlement_amount  \\\n",
      "50325               NaN             NaN               NaN   \n",
      "3640                NaN             NaN               NaN   \n",
      "75636               NaN             NaN               NaN   \n",
      "77347               NaN             NaN               NaN   \n",
      "34435               NaN             NaN               NaN   \n",
      "5037                NaN             NaN               NaN   \n",
      "92511               NaN             NaN               NaN   \n",
      "63903               NaN             NaN               NaN   \n",
      "40806               NaN             NaN               NaN   \n",
      "80235               NaN             NaN               NaN   \n",
      "60723               NaN             NaN               NaN   \n",
      "9857                NaN             NaN               NaN   \n",
      "72068               NaN             NaN               NaN   \n",
      "11694               NaN             NaN               NaN   \n",
      "87682               NaN             NaN               NaN   \n",
      "60760               NaN             NaN               NaN   \n",
      "21584               NaN             NaN               NaN   \n",
      "25828               NaN             NaN               NaN   \n",
      "63638               NaN             NaN               NaN   \n",
      "30717               NaN             NaN               NaN   \n",
      "\n",
      "      settlement_percentage  settlement_term  \n",
      "50325                   NaN              NaN  \n",
      "3640                    NaN              NaN  \n",
      "75636                   NaN              NaN  \n",
      "77347                   NaN              NaN  \n",
      "34435                   NaN              NaN  \n",
      "5037                    NaN              NaN  \n",
      "92511                   NaN              NaN  \n",
      "63903                   NaN              NaN  \n",
      "40806                   NaN              NaN  \n",
      "80235                   NaN              NaN  \n",
      "60723                   NaN              NaN  \n",
      "9857                    NaN              NaN  \n",
      "72068                   NaN              NaN  \n",
      "11694                   NaN              NaN  \n",
      "87682                   NaN              NaN  \n",
      "60760                   NaN              NaN  \n",
      "21584                   NaN              NaN  \n",
      "25828                   NaN              NaN  \n",
      "63638                   NaN              NaN  \n",
      "30717                   NaN              NaN  \n",
      "\n",
      "[20 rows x 151 columns]\n"
     ]
    }
   ],
   "source": [
    "print(df.sample(20))"
   ]
  },
  {
   "cell_type": "code",
   "execution_count": 9,
   "id": "866fdc73-bc31-4697-aac5-f6e294f7270d",
   "metadata": {},
   "outputs": [
    {
     "name": "stdout",
     "output_type": "stream",
     "text": [
      "<class 'pandas.core.frame.DataFrame'>\n",
      "RangeIndex: 96781 entries, 0 to 96780\n",
      "Columns: 151 entries, id to settlement_term\n",
      "dtypes: float64(112), object(39)\n",
      "memory usage: 111.5+ MB\n"
     ]
    }
   ],
   "source": [
    "df.info()  # Cela te donnera un résumé du DataFrame\n"
   ]
  },
  {
   "cell_type": "code",
   "execution_count": 10,
   "id": "a594a02b-59d2-46ef-92e0-8d537e2ec76c",
   "metadata": {},
   "outputs": [
    {
     "name": "stdout",
     "output_type": "stream",
     "text": [
      "C:\\Users\\ninao\\Desktop\\practica\\practica0\\notebooks\n"
     ]
    }
   ],
   "source": [
    "import os\n",
    "\n",
    "# Afficher le répertoire de travail courant\n",
    "print(os.getcwd())\n"
   ]
  },
  {
   "cell_type": "code",
   "execution_count": 11,
   "id": "d2725133-334e-4544-9343-220111d13b9e",
   "metadata": {},
   "outputs": [
    {
     "data": {
      "application/vnd.jupyter.widget-view+json": {
       "model_id": "0844ba48b80b408799668cea735eb1ea",
       "version_major": 2,
       "version_minor": 0
      },
      "text/plain": [
       "                                             |                                             | [  0%]   00:00 ->…"
      ]
     },
     "metadata": {},
     "output_type": "display_data"
    },
    {
     "name": "stderr",
     "output_type": "stream",
     "text": [
      "C:\\Users\\ninao\\anaconda3\\Lib\\site-packages\\numpy\\lib\\function_base.py:2889: RuntimeWarning: Degrees of freedom <= 0 for slice\n",
      "  c = cov(x, y, rowvar, dtype=dtype)\n",
      "C:\\Users\\ninao\\anaconda3\\Lib\\site-packages\\sweetviz\\graph_associations.py:219: PerformanceWarning: DataFrame is highly fragmented.  This is usually the result of calling `frame.insert` many times, which has poor performance.  Consider joining all columns at once using pd.concat(axis=1) instead. To get a de-fragmented frame, use `newframe = frame.copy()`\n",
      "  new_dataframe[feature] = pd.Series(dtype=float)\n",
      "C:\\Users\\ninao\\anaconda3\\Lib\\site-packages\\sweetviz\\graph_associations.py:219: PerformanceWarning: DataFrame is highly fragmented.  This is usually the result of calling `frame.insert` many times, which has poor performance.  Consider joining all columns at once using pd.concat(axis=1) instead. To get a de-fragmented frame, use `newframe = frame.copy()`\n",
      "  new_dataframe[feature] = pd.Series(dtype=float)\n",
      "C:\\Users\\ninao\\anaconda3\\Lib\\site-packages\\sweetviz\\graph_associations.py:219: PerformanceWarning: DataFrame is highly fragmented.  This is usually the result of calling `frame.insert` many times, which has poor performance.  Consider joining all columns at once using pd.concat(axis=1) instead. To get a de-fragmented frame, use `newframe = frame.copy()`\n",
      "  new_dataframe[feature] = pd.Series(dtype=float)\n",
      "C:\\Users\\ninao\\anaconda3\\Lib\\site-packages\\sweetviz\\graph_associations.py:219: PerformanceWarning: DataFrame is highly fragmented.  This is usually the result of calling `frame.insert` many times, which has poor performance.  Consider joining all columns at once using pd.concat(axis=1) instead. To get a de-fragmented frame, use `newframe = frame.copy()`\n",
      "  new_dataframe[feature] = pd.Series(dtype=float)\n",
      "C:\\Users\\ninao\\anaconda3\\Lib\\site-packages\\sweetviz\\graph_associations.py:219: PerformanceWarning: DataFrame is highly fragmented.  This is usually the result of calling `frame.insert` many times, which has poor performance.  Consider joining all columns at once using pd.concat(axis=1) instead. To get a de-fragmented frame, use `newframe = frame.copy()`\n",
      "  new_dataframe[feature] = pd.Series(dtype=float)\n",
      "C:\\Users\\ninao\\anaconda3\\Lib\\site-packages\\sweetviz\\graph_associations.py:219: PerformanceWarning: DataFrame is highly fragmented.  This is usually the result of calling `frame.insert` many times, which has poor performance.  Consider joining all columns at once using pd.concat(axis=1) instead. To get a de-fragmented frame, use `newframe = frame.copy()`\n",
      "  new_dataframe[feature] = pd.Series(dtype=float)\n",
      "C:\\Users\\ninao\\anaconda3\\Lib\\site-packages\\sweetviz\\graph_associations.py:219: PerformanceWarning: DataFrame is highly fragmented.  This is usually the result of calling `frame.insert` many times, which has poor performance.  Consider joining all columns at once using pd.concat(axis=1) instead. To get a de-fragmented frame, use `newframe = frame.copy()`\n",
      "  new_dataframe[feature] = pd.Series(dtype=float)\n",
      "C:\\Users\\ninao\\anaconda3\\Lib\\site-packages\\sweetviz\\graph_associations.py:219: PerformanceWarning: DataFrame is highly fragmented.  This is usually the result of calling `frame.insert` many times, which has poor performance.  Consider joining all columns at once using pd.concat(axis=1) instead. To get a de-fragmented frame, use `newframe = frame.copy()`\n",
      "  new_dataframe[feature] = pd.Series(dtype=float)\n",
      "C:\\Users\\ninao\\anaconda3\\Lib\\site-packages\\sweetviz\\graph_associations.py:219: PerformanceWarning: DataFrame is highly fragmented.  This is usually the result of calling `frame.insert` many times, which has poor performance.  Consider joining all columns at once using pd.concat(axis=1) instead. To get a de-fragmented frame, use `newframe = frame.copy()`\n",
      "  new_dataframe[feature] = pd.Series(dtype=float)\n",
      "C:\\Users\\ninao\\anaconda3\\Lib\\site-packages\\sweetviz\\graph_associations.py:219: PerformanceWarning: DataFrame is highly fragmented.  This is usually the result of calling `frame.insert` many times, which has poor performance.  Consider joining all columns at once using pd.concat(axis=1) instead. To get a de-fragmented frame, use `newframe = frame.copy()`\n",
      "  new_dataframe[feature] = pd.Series(dtype=float)\n",
      "C:\\Users\\ninao\\anaconda3\\Lib\\site-packages\\sweetviz\\graph_associations.py:219: PerformanceWarning: DataFrame is highly fragmented.  This is usually the result of calling `frame.insert` many times, which has poor performance.  Consider joining all columns at once using pd.concat(axis=1) instead. To get a de-fragmented frame, use `newframe = frame.copy()`\n",
      "  new_dataframe[feature] = pd.Series(dtype=float)\n",
      "C:\\Users\\ninao\\anaconda3\\Lib\\site-packages\\sweetviz\\graph_associations.py:219: PerformanceWarning: DataFrame is highly fragmented.  This is usually the result of calling `frame.insert` many times, which has poor performance.  Consider joining all columns at once using pd.concat(axis=1) instead. To get a de-fragmented frame, use `newframe = frame.copy()`\n",
      "  new_dataframe[feature] = pd.Series(dtype=float)\n",
      "C:\\Users\\ninao\\anaconda3\\Lib\\site-packages\\sweetviz\\graph_associations.py:219: PerformanceWarning: DataFrame is highly fragmented.  This is usually the result of calling `frame.insert` many times, which has poor performance.  Consider joining all columns at once using pd.concat(axis=1) instead. To get a de-fragmented frame, use `newframe = frame.copy()`\n",
      "  new_dataframe[feature] = pd.Series(dtype=float)\n",
      "C:\\Users\\ninao\\anaconda3\\Lib\\site-packages\\sweetviz\\graph_associations.py:219: PerformanceWarning: DataFrame is highly fragmented.  This is usually the result of calling `frame.insert` many times, which has poor performance.  Consider joining all columns at once using pd.concat(axis=1) instead. To get a de-fragmented frame, use `newframe = frame.copy()`\n",
      "  new_dataframe[feature] = pd.Series(dtype=float)\n",
      "C:\\Users\\ninao\\anaconda3\\Lib\\site-packages\\sweetviz\\graph_associations.py:219: PerformanceWarning: DataFrame is highly fragmented.  This is usually the result of calling `frame.insert` many times, which has poor performance.  Consider joining all columns at once using pd.concat(axis=1) instead. To get a de-fragmented frame, use `newframe = frame.copy()`\n",
      "  new_dataframe[feature] = pd.Series(dtype=float)\n",
      "C:\\Users\\ninao\\anaconda3\\Lib\\site-packages\\sweetviz\\graph_associations.py:219: PerformanceWarning: DataFrame is highly fragmented.  This is usually the result of calling `frame.insert` many times, which has poor performance.  Consider joining all columns at once using pd.concat(axis=1) instead. To get a de-fragmented frame, use `newframe = frame.copy()`\n",
      "  new_dataframe[feature] = pd.Series(dtype=float)\n",
      "C:\\Users\\ninao\\anaconda3\\Lib\\site-packages\\sweetviz\\graph_associations.py:219: PerformanceWarning: DataFrame is highly fragmented.  This is usually the result of calling `frame.insert` many times, which has poor performance.  Consider joining all columns at once using pd.concat(axis=1) instead. To get a de-fragmented frame, use `newframe = frame.copy()`\n",
      "  new_dataframe[feature] = pd.Series(dtype=float)\n",
      "C:\\Users\\ninao\\anaconda3\\Lib\\site-packages\\sweetviz\\graph_associations.py:219: PerformanceWarning: DataFrame is highly fragmented.  This is usually the result of calling `frame.insert` many times, which has poor performance.  Consider joining all columns at once using pd.concat(axis=1) instead. To get a de-fragmented frame, use `newframe = frame.copy()`\n",
      "  new_dataframe[feature] = pd.Series(dtype=float)\n",
      "C:\\Users\\ninao\\anaconda3\\Lib\\site-packages\\sweetviz\\graph_associations.py:219: PerformanceWarning: DataFrame is highly fragmented.  This is usually the result of calling `frame.insert` many times, which has poor performance.  Consider joining all columns at once using pd.concat(axis=1) instead. To get a de-fragmented frame, use `newframe = frame.copy()`\n",
      "  new_dataframe[feature] = pd.Series(dtype=float)\n",
      "C:\\Users\\ninao\\anaconda3\\Lib\\site-packages\\sweetviz\\graph_associations.py:219: PerformanceWarning: DataFrame is highly fragmented.  This is usually the result of calling `frame.insert` many times, which has poor performance.  Consider joining all columns at once using pd.concat(axis=1) instead. To get a de-fragmented frame, use `newframe = frame.copy()`\n",
      "  new_dataframe[feature] = pd.Series(dtype=float)\n",
      "C:\\Users\\ninao\\anaconda3\\Lib\\site-packages\\sweetviz\\graph_associations.py:219: PerformanceWarning: DataFrame is highly fragmented.  This is usually the result of calling `frame.insert` many times, which has poor performance.  Consider joining all columns at once using pd.concat(axis=1) instead. To get a de-fragmented frame, use `newframe = frame.copy()`\n",
      "  new_dataframe[feature] = pd.Series(dtype=float)\n",
      "C:\\Users\\ninao\\anaconda3\\Lib\\site-packages\\sweetviz\\graph_associations.py:219: PerformanceWarning: DataFrame is highly fragmented.  This is usually the result of calling `frame.insert` many times, which has poor performance.  Consider joining all columns at once using pd.concat(axis=1) instead. To get a de-fragmented frame, use `newframe = frame.copy()`\n",
      "  new_dataframe[feature] = pd.Series(dtype=float)\n",
      "C:\\Users\\ninao\\anaconda3\\Lib\\site-packages\\sweetviz\\graph_associations.py:219: PerformanceWarning: DataFrame is highly fragmented.  This is usually the result of calling `frame.insert` many times, which has poor performance.  Consider joining all columns at once using pd.concat(axis=1) instead. To get a de-fragmented frame, use `newframe = frame.copy()`\n",
      "  new_dataframe[feature] = pd.Series(dtype=float)\n",
      "C:\\Users\\ninao\\anaconda3\\Lib\\site-packages\\sweetviz\\graph_associations.py:219: PerformanceWarning: DataFrame is highly fragmented.  This is usually the result of calling `frame.insert` many times, which has poor performance.  Consider joining all columns at once using pd.concat(axis=1) instead. To get a de-fragmented frame, use `newframe = frame.copy()`\n",
      "  new_dataframe[feature] = pd.Series(dtype=float)\n",
      "C:\\Users\\ninao\\anaconda3\\Lib\\site-packages\\sweetviz\\graph_associations.py:219: PerformanceWarning: DataFrame is highly fragmented.  This is usually the result of calling `frame.insert` many times, which has poor performance.  Consider joining all columns at once using pd.concat(axis=1) instead. To get a de-fragmented frame, use `newframe = frame.copy()`\n",
      "  new_dataframe[feature] = pd.Series(dtype=float)\n",
      "C:\\Users\\ninao\\anaconda3\\Lib\\site-packages\\sweetviz\\graph_associations.py:219: PerformanceWarning: DataFrame is highly fragmented.  This is usually the result of calling `frame.insert` many times, which has poor performance.  Consider joining all columns at once using pd.concat(axis=1) instead. To get a de-fragmented frame, use `newframe = frame.copy()`\n",
      "  new_dataframe[feature] = pd.Series(dtype=float)\n",
      "C:\\Users\\ninao\\anaconda3\\Lib\\site-packages\\sweetviz\\graph_associations.py:219: PerformanceWarning: DataFrame is highly fragmented.  This is usually the result of calling `frame.insert` many times, which has poor performance.  Consider joining all columns at once using pd.concat(axis=1) instead. To get a de-fragmented frame, use `newframe = frame.copy()`\n",
      "  new_dataframe[feature] = pd.Series(dtype=float)\n",
      "C:\\Users\\ninao\\anaconda3\\Lib\\site-packages\\sweetviz\\graph_associations.py:219: PerformanceWarning: DataFrame is highly fragmented.  This is usually the result of calling `frame.insert` many times, which has poor performance.  Consider joining all columns at once using pd.concat(axis=1) instead. To get a de-fragmented frame, use `newframe = frame.copy()`\n",
      "  new_dataframe[feature] = pd.Series(dtype=float)\n",
      "C:\\Users\\ninao\\anaconda3\\Lib\\site-packages\\sweetviz\\graph_associations.py:219: PerformanceWarning: DataFrame is highly fragmented.  This is usually the result of calling `frame.insert` many times, which has poor performance.  Consider joining all columns at once using pd.concat(axis=1) instead. To get a de-fragmented frame, use `newframe = frame.copy()`\n",
      "  new_dataframe[feature] = pd.Series(dtype=float)\n",
      "C:\\Users\\ninao\\anaconda3\\Lib\\site-packages\\sweetviz\\graph_associations.py:219: PerformanceWarning: DataFrame is highly fragmented.  This is usually the result of calling `frame.insert` many times, which has poor performance.  Consider joining all columns at once using pd.concat(axis=1) instead. To get a de-fragmented frame, use `newframe = frame.copy()`\n",
      "  new_dataframe[feature] = pd.Series(dtype=float)\n",
      "C:\\Users\\ninao\\anaconda3\\Lib\\site-packages\\sweetviz\\graph_associations.py:219: PerformanceWarning: DataFrame is highly fragmented.  This is usually the result of calling `frame.insert` many times, which has poor performance.  Consider joining all columns at once using pd.concat(axis=1) instead. To get a de-fragmented frame, use `newframe = frame.copy()`\n",
      "  new_dataframe[feature] = pd.Series(dtype=float)\n",
      "C:\\Users\\ninao\\anaconda3\\Lib\\site-packages\\sweetviz\\graph_associations.py:219: PerformanceWarning: DataFrame is highly fragmented.  This is usually the result of calling `frame.insert` many times, which has poor performance.  Consider joining all columns at once using pd.concat(axis=1) instead. To get a de-fragmented frame, use `newframe = frame.copy()`\n",
      "  new_dataframe[feature] = pd.Series(dtype=float)\n",
      "C:\\Users\\ninao\\anaconda3\\Lib\\site-packages\\sweetviz\\graph_associations.py:219: PerformanceWarning: DataFrame is highly fragmented.  This is usually the result of calling `frame.insert` many times, which has poor performance.  Consider joining all columns at once using pd.concat(axis=1) instead. To get a de-fragmented frame, use `newframe = frame.copy()`\n",
      "  new_dataframe[feature] = pd.Series(dtype=float)\n",
      "C:\\Users\\ninao\\anaconda3\\Lib\\site-packages\\sweetviz\\graph_associations.py:219: PerformanceWarning: DataFrame is highly fragmented.  This is usually the result of calling `frame.insert` many times, which has poor performance.  Consider joining all columns at once using pd.concat(axis=1) instead. To get a de-fragmented frame, use `newframe = frame.copy()`\n",
      "  new_dataframe[feature] = pd.Series(dtype=float)\n",
      "C:\\Users\\ninao\\anaconda3\\Lib\\site-packages\\sweetviz\\graph_associations.py:219: PerformanceWarning: DataFrame is highly fragmented.  This is usually the result of calling `frame.insert` many times, which has poor performance.  Consider joining all columns at once using pd.concat(axis=1) instead. To get a de-fragmented frame, use `newframe = frame.copy()`\n",
      "  new_dataframe[feature] = pd.Series(dtype=float)\n",
      "C:\\Users\\ninao\\anaconda3\\Lib\\site-packages\\sweetviz\\graph_associations.py:219: PerformanceWarning: DataFrame is highly fragmented.  This is usually the result of calling `frame.insert` many times, which has poor performance.  Consider joining all columns at once using pd.concat(axis=1) instead. To get a de-fragmented frame, use `newframe = frame.copy()`\n",
      "  new_dataframe[feature] = pd.Series(dtype=float)\n",
      "C:\\Users\\ninao\\anaconda3\\Lib\\site-packages\\sweetviz\\graph_associations.py:219: PerformanceWarning: DataFrame is highly fragmented.  This is usually the result of calling `frame.insert` many times, which has poor performance.  Consider joining all columns at once using pd.concat(axis=1) instead. To get a de-fragmented frame, use `newframe = frame.copy()`\n",
      "  new_dataframe[feature] = pd.Series(dtype=float)\n",
      "C:\\Users\\ninao\\anaconda3\\Lib\\site-packages\\sweetviz\\graph_associations.py:219: PerformanceWarning: DataFrame is highly fragmented.  This is usually the result of calling `frame.insert` many times, which has poor performance.  Consider joining all columns at once using pd.concat(axis=1) instead. To get a de-fragmented frame, use `newframe = frame.copy()`\n",
      "  new_dataframe[feature] = pd.Series(dtype=float)\n",
      "C:\\Users\\ninao\\anaconda3\\Lib\\site-packages\\sweetviz\\graph_associations.py:219: PerformanceWarning: DataFrame is highly fragmented.  This is usually the result of calling `frame.insert` many times, which has poor performance.  Consider joining all columns at once using pd.concat(axis=1) instead. To get a de-fragmented frame, use `newframe = frame.copy()`\n",
      "  new_dataframe[feature] = pd.Series(dtype=float)\n",
      "C:\\Users\\ninao\\anaconda3\\Lib\\site-packages\\sweetviz\\graph_associations.py:219: PerformanceWarning: DataFrame is highly fragmented.  This is usually the result of calling `frame.insert` many times, which has poor performance.  Consider joining all columns at once using pd.concat(axis=1) instead. To get a de-fragmented frame, use `newframe = frame.copy()`\n",
      "  new_dataframe[feature] = pd.Series(dtype=float)\n",
      "C:\\Users\\ninao\\anaconda3\\Lib\\site-packages\\sweetviz\\graph_associations.py:219: PerformanceWarning: DataFrame is highly fragmented.  This is usually the result of calling `frame.insert` many times, which has poor performance.  Consider joining all columns at once using pd.concat(axis=1) instead. To get a de-fragmented frame, use `newframe = frame.copy()`\n",
      "  new_dataframe[feature] = pd.Series(dtype=float)\n",
      "C:\\Users\\ninao\\anaconda3\\Lib\\site-packages\\sweetviz\\graph_associations.py:219: PerformanceWarning: DataFrame is highly fragmented.  This is usually the result of calling `frame.insert` many times, which has poor performance.  Consider joining all columns at once using pd.concat(axis=1) instead. To get a de-fragmented frame, use `newframe = frame.copy()`\n",
      "  new_dataframe[feature] = pd.Series(dtype=float)\n"
     ]
    }
   ],
   "source": [
    "report = sv.analyze(df)"
   ]
  },
  {
   "cell_type": "code",
   "execution_count": 12,
   "id": "84697043-634f-4db3-9431-1552e6049f17",
   "metadata": {},
   "outputs": [
    {
     "name": "stdout",
     "output_type": "stream",
     "text": [
      "Report C:\\Users\\ninao\\Desktop\\practica\\practica0\\reports\\report_sweetviz_v1.html was generated! NOTEBOOK/COLAB USERS: the web browser MAY not pop up, regardless, the report IS saved in your notebook/colab files.\n",
      "---\n",
      "WARNING: one or more correlations had an edge-case/error and a 1.0 correlation was assigned\n",
      "(likely due to only having a single row, containing non-NaN values for both correlated features)\n",
      "Affected correlations:['recoveries/revol_bal_joint', 'recoveries/sec_app_fico_range_low', 'recoveries/sec_app_fico_range_high', 'recoveries/sec_app_mort_acc', 'recoveries/sec_app_open_acc', 'recoveries/sec_app_revol_util', 'recoveries/sec_app_open_act_il', 'recoveries/sec_app_num_rev_accts', 'recoveries/sec_app_mths_since_last_major_derog', 'recoveries/hardship_amount', 'recoveries/hardship_dpd', 'recoveries/orig_projected_additional_accrued_interest', 'recoveries/hardship_payoff_balance_amount', 'recoveries/hardship_last_payment_amount', 'collection_recovery_fee/revol_bal_joint', 'collection_recovery_fee/sec_app_fico_range_low', 'collection_recovery_fee/sec_app_fico_range_high', 'collection_recovery_fee/sec_app_mort_acc', 'collection_recovery_fee/sec_app_open_acc', 'collection_recovery_fee/sec_app_revol_util', 'collection_recovery_fee/sec_app_open_act_il', 'collection_recovery_fee/sec_app_num_rev_accts', 'collection_recovery_fee/sec_app_mths_since_last_major_derog', 'collection_recovery_fee/hardship_amount', 'collection_recovery_fee/hardship_dpd', 'collection_recovery_fee/orig_projected_additional_accrued_interest', 'collection_recovery_fee/hardship_payoff_balance_amount', 'collection_recovery_fee/hardship_last_payment_amount', 'annual_inc_joint/settlement_amount', 'annual_inc_joint/settlement_percentage', 'annual_inc_joint/settlement_term', 'dti_joint/settlement_amount', 'dti_joint/settlement_percentage', 'dti_joint/settlement_term', 'delinq_amnt/sec_app_mths_since_last_major_derog', 'delinq_amnt/hardship_amount', 'delinq_amnt/hardship_dpd', 'delinq_amnt/orig_projected_additional_accrued_interest', 'delinq_amnt/hardship_payoff_balance_amount', 'delinq_amnt/hardship_last_payment_amount', 'revol_bal_joint/recoveries', 'revol_bal_joint/collection_recovery_fee', 'revol_bal_joint/hardship_amount', 'revol_bal_joint/hardship_dpd', 'revol_bal_joint/orig_projected_additional_accrued_interest', 'revol_bal_joint/hardship_payoff_balance_amount', 'revol_bal_joint/hardship_last_payment_amount', 'sec_app_fico_range_low/recoveries', 'sec_app_fico_range_low/collection_recovery_fee', 'sec_app_fico_range_low/hardship_amount', 'sec_app_fico_range_low/hardship_dpd', 'sec_app_fico_range_low/orig_projected_additional_accrued_interest', 'sec_app_fico_range_low/hardship_payoff_balance_amount', 'sec_app_fico_range_low/hardship_last_payment_amount', 'sec_app_fico_range_high/recoveries', 'sec_app_fico_range_high/collection_recovery_fee', 'sec_app_fico_range_high/hardship_amount', 'sec_app_fico_range_high/hardship_dpd', 'sec_app_fico_range_high/orig_projected_additional_accrued_interest', 'sec_app_fico_range_high/hardship_payoff_balance_amount', 'sec_app_fico_range_high/hardship_last_payment_amount', 'sec_app_mort_acc/recoveries', 'sec_app_mort_acc/collection_recovery_fee', 'sec_app_mort_acc/hardship_amount', 'sec_app_mort_acc/hardship_dpd', 'sec_app_mort_acc/orig_projected_additional_accrued_interest', 'sec_app_mort_acc/hardship_payoff_balance_amount', 'sec_app_mort_acc/hardship_last_payment_amount', 'sec_app_open_acc/recoveries', 'sec_app_open_acc/collection_recovery_fee', 'sec_app_open_acc/hardship_amount', 'sec_app_open_acc/hardship_dpd', 'sec_app_open_acc/orig_projected_additional_accrued_interest', 'sec_app_open_acc/hardship_payoff_balance_amount', 'sec_app_open_acc/hardship_last_payment_amount', 'sec_app_revol_util/recoveries', 'sec_app_revol_util/collection_recovery_fee', 'sec_app_revol_util/hardship_amount', 'sec_app_revol_util/hardship_dpd', 'sec_app_revol_util/orig_projected_additional_accrued_interest', 'sec_app_revol_util/hardship_payoff_balance_amount', 'sec_app_revol_util/hardship_last_payment_amount', 'sec_app_open_act_il/recoveries', 'sec_app_open_act_il/collection_recovery_fee', 'sec_app_open_act_il/hardship_amount', 'sec_app_open_act_il/hardship_dpd', 'sec_app_open_act_il/orig_projected_additional_accrued_interest', 'sec_app_open_act_il/hardship_payoff_balance_amount', 'sec_app_open_act_il/hardship_last_payment_amount', 'sec_app_num_rev_accts/recoveries', 'sec_app_num_rev_accts/collection_recovery_fee', 'sec_app_num_rev_accts/hardship_amount', 'sec_app_num_rev_accts/hardship_dpd', 'sec_app_num_rev_accts/orig_projected_additional_accrued_interest', 'sec_app_num_rev_accts/hardship_payoff_balance_amount', 'sec_app_num_rev_accts/hardship_last_payment_amount', 'sec_app_mths_since_last_major_derog/recoveries', 'sec_app_mths_since_last_major_derog/collection_recovery_fee', 'sec_app_mths_since_last_major_derog/delinq_amnt', 'hardship_amount/recoveries', 'hardship_amount/collection_recovery_fee', 'hardship_amount/delinq_amnt', 'hardship_amount/revol_bal_joint', 'hardship_amount/sec_app_fico_range_low', 'hardship_amount/sec_app_fico_range_high', 'hardship_amount/sec_app_mort_acc', 'hardship_amount/sec_app_open_acc', 'hardship_amount/sec_app_revol_util', 'hardship_amount/sec_app_open_act_il', 'hardship_amount/sec_app_num_rev_accts', 'hardship_amount/settlement_amount', 'hardship_amount/settlement_percentage', 'hardship_amount/settlement_term', 'hardship_dpd/recoveries', 'hardship_dpd/collection_recovery_fee', 'hardship_dpd/delinq_amnt', 'hardship_dpd/revol_bal_joint', 'hardship_dpd/sec_app_fico_range_low', 'hardship_dpd/sec_app_fico_range_high', 'hardship_dpd/sec_app_mort_acc', 'hardship_dpd/sec_app_open_acc', 'hardship_dpd/sec_app_revol_util', 'hardship_dpd/sec_app_open_act_il', 'hardship_dpd/sec_app_num_rev_accts', 'hardship_dpd/settlement_amount', 'hardship_dpd/settlement_percentage', 'hardship_dpd/settlement_term', 'orig_projected_additional_accrued_interest/recoveries', 'orig_projected_additional_accrued_interest/collection_recovery_fee', 'orig_projected_additional_accrued_interest/delinq_amnt', 'orig_projected_additional_accrued_interest/revol_bal_joint', 'orig_projected_additional_accrued_interest/sec_app_fico_range_low', 'orig_projected_additional_accrued_interest/sec_app_fico_range_high', 'orig_projected_additional_accrued_interest/sec_app_mort_acc', 'orig_projected_additional_accrued_interest/sec_app_open_acc', 'orig_projected_additional_accrued_interest/sec_app_revol_util', 'orig_projected_additional_accrued_interest/sec_app_open_act_il', 'orig_projected_additional_accrued_interest/sec_app_num_rev_accts', 'hardship_payoff_balance_amount/recoveries', 'hardship_payoff_balance_amount/collection_recovery_fee', 'hardship_payoff_balance_amount/delinq_amnt', 'hardship_payoff_balance_amount/revol_bal_joint', 'hardship_payoff_balance_amount/sec_app_fico_range_low', 'hardship_payoff_balance_amount/sec_app_fico_range_high', 'hardship_payoff_balance_amount/sec_app_mort_acc', 'hardship_payoff_balance_amount/sec_app_open_acc', 'hardship_payoff_balance_amount/sec_app_revol_util', 'hardship_payoff_balance_amount/sec_app_open_act_il', 'hardship_payoff_balance_amount/sec_app_num_rev_accts', 'hardship_payoff_balance_amount/settlement_amount', 'hardship_payoff_balance_amount/settlement_percentage', 'hardship_payoff_balance_amount/settlement_term', 'hardship_last_payment_amount/recoveries', 'hardship_last_payment_amount/collection_recovery_fee', 'hardship_last_payment_amount/delinq_amnt', 'hardship_last_payment_amount/revol_bal_joint', 'hardship_last_payment_amount/sec_app_fico_range_low', 'hardship_last_payment_amount/sec_app_fico_range_high', 'hardship_last_payment_amount/sec_app_mort_acc', 'hardship_last_payment_amount/sec_app_open_acc', 'hardship_last_payment_amount/sec_app_revol_util', 'hardship_last_payment_amount/sec_app_open_act_il', 'hardship_last_payment_amount/sec_app_num_rev_accts', 'hardship_last_payment_amount/settlement_amount', 'hardship_last_payment_amount/settlement_percentage', 'hardship_last_payment_amount/settlement_term', 'settlement_amount/annual_inc_joint', 'settlement_amount/dti_joint', 'settlement_amount/hardship_amount', 'settlement_amount/hardship_dpd', 'settlement_amount/hardship_payoff_balance_amount', 'settlement_amount/hardship_last_payment_amount', 'settlement_percentage/annual_inc_joint', 'settlement_percentage/dti_joint', 'settlement_percentage/hardship_amount', 'settlement_percentage/hardship_dpd', 'settlement_percentage/hardship_payoff_balance_amount', 'settlement_percentage/hardship_last_payment_amount', 'settlement_term/annual_inc_joint', 'settlement_term/dti_joint', 'settlement_term/hardship_amount', 'settlement_term/hardship_dpd', 'settlement_term/hardship_payoff_balance_amount', 'settlement_term/hardship_last_payment_amount']\n"
     ]
    }
   ],
   "source": [
    "report.show_html(r'C:\\Users\\ninao\\Desktop\\practica\\practica0\\reports\\report_sweetviz_v1.html')"
   ]
  }
 ],
 "metadata": {
  "kernelspec": {
   "display_name": "Python 3 (ipykernel)",
   "language": "python",
   "name": "python3"
  },
  "language_info": {
   "codemirror_mode": {
    "name": "ipython",
    "version": 3
   },
   "file_extension": ".py",
   "mimetype": "text/x-python",
   "name": "python",
   "nbconvert_exporter": "python",
   "pygments_lexer": "ipython3",
   "version": "3.12.4"
  }
 },
 "nbformat": 4,
 "nbformat_minor": 5
}
