{
 "cells": [
  {
   "cell_type": "code",
   "execution_count": 1,
   "id": "2034a103-d246-483f-a174-25752b814755",
   "metadata": {},
   "outputs": [],
   "source": [
    "import pandas as pd"
   ]
  },
  {
   "cell_type": "code",
   "execution_count": 2,
   "id": "ccaf730e-09f4-4718-b869-e8978256d488",
   "metadata": {},
   "outputs": [],
   "source": [
    "import sweetviz as sv"
   ]
  },
  {
   "cell_type": "code",
   "execution_count": 3,
   "id": "869e23c2-eeb4-46b9-8105-0a75c6db8a73",
   "metadata": {},
   "outputs": [],
   "source": [
    "file_path = r'C:\\Users\\ninao\\Desktop\\practica\\practica0\\data\\Loan_test_set.csv'\n",
    "df = pd.read_csv(file_path,sep=',', low_memory=False,skiprows=1)"
   ]
  },
  {
   "cell_type": "code",
   "execution_count": 4,
   "id": "55041bd6-ea62-48d5-873b-051ca76b193f",
   "metadata": {},
   "outputs": [
    {
     "name": "stdout",
     "output_type": "stream",
     "text": [
      "id                        object\n",
      "member_id                float64\n",
      "loan_amnt                float64\n",
      "funded_amnt              float64\n",
      "funded_amnt_inv          float64\n",
      "                          ...   \n",
      "settlement_status         object\n",
      "settlement_date           object\n",
      "settlement_amount        float64\n",
      "settlement_percentage    float64\n",
      "settlement_term          float64\n",
      "Length: 151, dtype: object\n",
      "Index(['id', 'member_id', 'loan_amnt', 'funded_amnt', 'funded_amnt_inv',\n",
      "       'term', 'int_rate', 'installment', 'grade', 'sub_grade',\n",
      "       ...\n",
      "       'hardship_payoff_balance_amount', 'hardship_last_payment_amount',\n",
      "       'disbursement_method', 'debt_settlement_flag',\n",
      "       'debt_settlement_flag_date', 'settlement_status', 'settlement_date',\n",
      "       'settlement_amount', 'settlement_percentage', 'settlement_term'],\n",
      "      dtype='object', length=151)\n"
     ]
    }
   ],
   "source": [
    "print(df.dtypes)\n",
    "\n",
    "print(df.columns)"
   ]
  },
  {
   "cell_type": "code",
   "execution_count": 5,
   "id": "419e3b5e-59ea-4bc3-ba20-a9de09a8849d",
   "metadata": {},
   "outputs": [
    {
     "name": "stdout",
     "output_type": "stream",
     "text": [
      "          id  member_id  loan_amnt  funded_amnt  funded_amnt_inv        term  \\\n",
      "0  104046719        NaN    14000.0      14000.0          14000.0   36 months   \n",
      "1  104048967        NaN     5000.0       5000.0           5000.0   36 months   \n",
      "2  104028593        NaN     4600.0       4600.0           4600.0   36 months   \n",
      "3  104046702        NaN    14000.0      14000.0          14000.0   60 months   \n",
      "4  104280113        NaN    15000.0      15000.0          15000.0   36 months   \n",
      "\n",
      "  int_rate  installment grade sub_grade  ... hardship_payoff_balance_amount  \\\n",
      "0   15.99%       492.13     C        C5  ...                            NaN   \n",
      "1   25.49%       200.10     E        E4  ...                            NaN   \n",
      "2   11.39%       151.45     B        B3  ...                            NaN   \n",
      "3   12.74%       316.69     C        C1  ...                            NaN   \n",
      "4    5.32%       451.73     A        A1  ...                            NaN   \n",
      "\n",
      "  hardship_last_payment_amount disbursement_method  debt_settlement_flag  \\\n",
      "0                          NaN                Cash                     N   \n",
      "1                          NaN                Cash                     N   \n",
      "2                          NaN                Cash                     N   \n",
      "3                          NaN                Cash                     N   \n",
      "4                          NaN                Cash                     N   \n",
      "\n",
      "  debt_settlement_flag_date settlement_status settlement_date  \\\n",
      "0                       NaN               NaN             NaN   \n",
      "1                       NaN               NaN             NaN   \n",
      "2                       NaN               NaN             NaN   \n",
      "3                       NaN               NaN             NaN   \n",
      "4                       NaN               NaN             NaN   \n",
      "\n",
      "  settlement_amount settlement_percentage  settlement_term  \n",
      "0               NaN                   NaN              NaN  \n",
      "1               NaN                   NaN              NaN  \n",
      "2               NaN                   NaN              NaN  \n",
      "3               NaN                   NaN              NaN  \n",
      "4               NaN                   NaN              NaN  \n",
      "\n",
      "[5 rows x 151 columns]\n"
     ]
    }
   ],
   "source": [
    "print(df.head())\n",
    "\n"
   ]
  },
  {
   "cell_type": "code",
   "execution_count": 6,
   "id": "41dc5ba8-a49b-4380-8bbe-be5c03af4837",
   "metadata": {},
   "outputs": [
    {
     "name": "stdout",
     "output_type": "stream",
     "text": [
      "          id  member_id  loan_amnt  funded_amnt  funded_amnt_inv        term  \\\n",
      "0  104046719        NaN    14000.0      14000.0          14000.0   36 months   \n",
      "1  104048967        NaN     5000.0       5000.0           5000.0   36 months   \n",
      "2  104028593        NaN     4600.0       4600.0           4600.0   36 months   \n",
      "3  104046702        NaN    14000.0      14000.0          14000.0   60 months   \n",
      "4  104280113        NaN    15000.0      15000.0          15000.0   36 months   \n",
      "\n",
      "  int_rate  installment grade sub_grade  ... hardship_payoff_balance_amount  \\\n",
      "0   15.99%       492.13     C        C5  ...                            NaN   \n",
      "1   25.49%       200.10     E        E4  ...                            NaN   \n",
      "2   11.39%       151.45     B        B3  ...                            NaN   \n",
      "3   12.74%       316.69     C        C1  ...                            NaN   \n",
      "4    5.32%       451.73     A        A1  ...                            NaN   \n",
      "\n",
      "  hardship_last_payment_amount disbursement_method  debt_settlement_flag  \\\n",
      "0                          NaN                Cash                     N   \n",
      "1                          NaN                Cash                     N   \n",
      "2                          NaN                Cash                     N   \n",
      "3                          NaN                Cash                     N   \n",
      "4                          NaN                Cash                     N   \n",
      "\n",
      "  debt_settlement_flag_date settlement_status settlement_date  \\\n",
      "0                       NaN               NaN             NaN   \n",
      "1                       NaN               NaN             NaN   \n",
      "2                       NaN               NaN             NaN   \n",
      "3                       NaN               NaN             NaN   \n",
      "4                       NaN               NaN             NaN   \n",
      "\n",
      "  settlement_amount settlement_percentage  settlement_term  \n",
      "0               NaN                   NaN              NaN  \n",
      "1               NaN                   NaN              NaN  \n",
      "2               NaN                   NaN              NaN  \n",
      "3               NaN                   NaN              NaN  \n",
      "4               NaN                   NaN              NaN  \n",
      "\n",
      "[5 rows x 151 columns]\n"
     ]
    }
   ],
   "source": [
    "print(df.head())"
   ]
  },
  {
   "cell_type": "code",
   "execution_count": 7,
   "id": "bf51be27-3b4c-492a-a7cc-e357e35a082e",
   "metadata": {},
   "outputs": [
    {
     "name": "stdout",
     "output_type": "stream",
     "text": [
      "                                                     id  member_id  loan_amnt  \\\n",
      "96776                                          94477589        NaN    10000.0   \n",
      "96777                                          94048859        NaN     6325.0   \n",
      "96778                                          94038849        NaN    15625.0   \n",
      "96779  Total amount funded in policy code 1: 1437969475        NaN        NaN   \n",
      "96780   Total amount funded in policy code 2: 520780182        NaN        NaN   \n",
      "\n",
      "       funded_amnt  funded_amnt_inv        term int_rate  installment grade  \\\n",
      "96776      10000.0          10000.0   36 months    8.24%       314.48     B   \n",
      "96777       6325.0           6325.0   36 months   15.99%       222.34     C   \n",
      "96778      15625.0          15625.0   60 months   28.69%       493.03     F   \n",
      "96779          NaN              NaN         NaN      NaN          NaN   NaN   \n",
      "96780          NaN              NaN         NaN      NaN          NaN   NaN   \n",
      "\n",
      "      sub_grade  ... hardship_payoff_balance_amount  \\\n",
      "96776        B1  ...                            NaN   \n",
      "96777        C5  ...                            NaN   \n",
      "96778        F1  ...                            NaN   \n",
      "96779       NaN  ...                            NaN   \n",
      "96780       NaN  ...                            NaN   \n",
      "\n",
      "      hardship_last_payment_amount disbursement_method  debt_settlement_flag  \\\n",
      "96776                          NaN                Cash                     N   \n",
      "96777                          NaN                Cash                     N   \n",
      "96778                          NaN                Cash                     N   \n",
      "96779                          NaN                 NaN                   NaN   \n",
      "96780                          NaN                 NaN                   NaN   \n",
      "\n",
      "      debt_settlement_flag_date settlement_status settlement_date  \\\n",
      "96776                       NaN               NaN             NaN   \n",
      "96777                       NaN               NaN             NaN   \n",
      "96778                       NaN               NaN             NaN   \n",
      "96779                       NaN               NaN             NaN   \n",
      "96780                       NaN               NaN             NaN   \n",
      "\n",
      "      settlement_amount settlement_percentage  settlement_term  \n",
      "96776               NaN                   NaN              NaN  \n",
      "96777               NaN                   NaN              NaN  \n",
      "96778               NaN                   NaN              NaN  \n",
      "96779               NaN                   NaN              NaN  \n",
      "96780               NaN                   NaN              NaN  \n",
      "\n",
      "[5 rows x 151 columns]\n",
      "<class 'pandas.core.frame.DataFrame'>\n",
      "RangeIndex: 96781 entries, 0 to 96780\n",
      "Columns: 151 entries, id to settlement_term\n",
      "dtypes: float64(112), object(39)\n",
      "memory usage: 111.5+ MB\n",
      "None\n"
     ]
    }
   ],
   "source": [
    "print(df.tail())\n",
    "print(df.info())"
   ]
  },
  {
   "cell_type": "code",
   "execution_count": 8,
   "id": "fd3afc84-5e5a-4acd-919a-a48ede3ca05b",
   "metadata": {},
   "outputs": [],
   "source": [
    "pd.set_option('display.max_rows', None)"
   ]
  },
  {
   "cell_type": "code",
   "execution_count": 9,
   "id": "3149f669-d31c-4d79-82da-ee9333c629c8",
   "metadata": {},
   "outputs": [
    {
     "name": "stdout",
     "output_type": "stream",
     "text": [
      "              id  member_id  loan_amnt  funded_amnt  funded_amnt_inv  \\\n",
      "89961   96164309        NaN    10800.0      10800.0          10800.0   \n",
      "32965  100111821        NaN    10600.0      10600.0          10600.0   \n",
      "1177   103587188        NaN     5650.0       5650.0           5650.0   \n",
      "75164   96838031        NaN     3000.0       3000.0           3000.0   \n",
      "27673   99986680        NaN    15000.0      15000.0          15000.0   \n",
      "16928  102285528        NaN    24000.0      24000.0          24000.0   \n",
      "63485   97374521        NaN    25000.0      25000.0          25000.0   \n",
      "276    103841982        NaN    14400.0      14400.0          14400.0   \n",
      "84336   96213310        NaN    11000.0      11000.0          11000.0   \n",
      "8855   102630816        NaN     9325.0       9325.0           9325.0   \n",
      "78144   96666029        NaN    20000.0      20000.0          20000.0   \n",
      "55897   97679182        NaN    10000.0      10000.0          10000.0   \n",
      "95052   96489765        NaN    12000.0      12000.0          12000.0   \n",
      "84605   96391680        NaN    20000.0      20000.0          20000.0   \n",
      "89355   96274657        NaN    14350.0      14350.0          14350.0   \n",
      "35409  100129392        NaN     3000.0       3000.0           3000.0   \n",
      "90835   95706660        NaN    15000.0      15000.0          15000.0   \n",
      "82873   96204574        NaN    26400.0      26400.0          26400.0   \n",
      "7255   102653823        NaN    32000.0      32000.0          32000.0   \n",
      "30784  100186380        NaN     5375.0       5375.0           5375.0   \n",
      "\n",
      "             term int_rate  installment grade sub_grade  ...  \\\n",
      "89961   36 months    5.32%       325.24     A        A1  ...   \n",
      "32965   36 months   11.44%       349.25     B        B4  ...   \n",
      "1177    36 months   10.49%       183.62     B        B2  ...   \n",
      "75164   36 months    7.99%        94.00     A        A5  ...   \n",
      "27673   36 months   12.74%       503.54     C        C1  ...   \n",
      "16928   36 months   23.99%       941.47     E        E2  ...   \n",
      "63485   60 months   14.99%       594.62     C        C4  ...   \n",
      "276     60 months   12.74%       325.74     C        C1  ...   \n",
      "84336   36 months   14.99%       381.27     C        C4  ...   \n",
      "8855    36 months   11.49%       307.46     B        B5  ...   \n",
      "78144   36 months   19.99%       743.17     D        D4  ...   \n",
      "55897   60 months   13.99%       232.64     C        C3  ...   \n",
      "95052   60 months   22.74%       336.50     E        E1  ...   \n",
      "84605   36 months   15.99%       703.05     C        C5  ...   \n",
      "89355   60 months   18.99%       372.17     D        D3  ...   \n",
      "35409   36 months   14.99%       103.99     C        C4  ...   \n",
      "90835   36 months    6.99%       463.09     A        A2  ...   \n",
      "82873   36 months   18.99%       967.59     D        D3  ...   \n",
      "7255    36 months    7.49%       995.26     A        A4  ...   \n",
      "30784   36 months   13.49%       182.38     C        C2  ...   \n",
      "\n",
      "      hardship_payoff_balance_amount hardship_last_payment_amount  \\\n",
      "89961                            NaN                          NaN   \n",
      "32965                            NaN                          NaN   \n",
      "1177                             NaN                          NaN   \n",
      "75164                            NaN                          NaN   \n",
      "27673                            NaN                          NaN   \n",
      "16928                            NaN                          NaN   \n",
      "63485                            NaN                          NaN   \n",
      "276                              NaN                          NaN   \n",
      "84336                            NaN                          NaN   \n",
      "8855                             NaN                          NaN   \n",
      "78144                            NaN                          NaN   \n",
      "55897                            NaN                          NaN   \n",
      "95052                            NaN                          NaN   \n",
      "84605                            NaN                          NaN   \n",
      "89355                            NaN                          NaN   \n",
      "35409                            NaN                          NaN   \n",
      "90835                            NaN                          NaN   \n",
      "82873                            NaN                          NaN   \n",
      "7255                             NaN                          NaN   \n",
      "30784                            NaN                          NaN   \n",
      "\n",
      "      disbursement_method  debt_settlement_flag debt_settlement_flag_date  \\\n",
      "89961                Cash                     N                       NaN   \n",
      "32965                Cash                     N                       NaN   \n",
      "1177                 Cash                     N                       NaN   \n",
      "75164                Cash                     N                       NaN   \n",
      "27673                Cash                     N                       NaN   \n",
      "16928                Cash                     N                       NaN   \n",
      "63485                Cash                     N                       NaN   \n",
      "276                  Cash                     N                       NaN   \n",
      "84336                Cash                     N                       NaN   \n",
      "8855                 Cash                     N                       NaN   \n",
      "78144                Cash                     N                       NaN   \n",
      "55897                Cash                     N                       NaN   \n",
      "95052                Cash                     N                       NaN   \n",
      "84605                Cash                     N                       NaN   \n",
      "89355                Cash                     N                       NaN   \n",
      "35409                Cash                     N                       NaN   \n",
      "90835                Cash                     N                       NaN   \n",
      "82873                Cash                     N                       NaN   \n",
      "7255                 Cash                     N                       NaN   \n",
      "30784                Cash                     N                       NaN   \n",
      "\n",
      "      settlement_status settlement_date settlement_amount  \\\n",
      "89961               NaN             NaN               NaN   \n",
      "32965               NaN             NaN               NaN   \n",
      "1177                NaN             NaN               NaN   \n",
      "75164               NaN             NaN               NaN   \n",
      "27673               NaN             NaN               NaN   \n",
      "16928               NaN             NaN               NaN   \n",
      "63485               NaN             NaN               NaN   \n",
      "276                 NaN             NaN               NaN   \n",
      "84336               NaN             NaN               NaN   \n",
      "8855                NaN             NaN               NaN   \n",
      "78144               NaN             NaN               NaN   \n",
      "55897               NaN             NaN               NaN   \n",
      "95052               NaN             NaN               NaN   \n",
      "84605               NaN             NaN               NaN   \n",
      "89355               NaN             NaN               NaN   \n",
      "35409               NaN             NaN               NaN   \n",
      "90835               NaN             NaN               NaN   \n",
      "82873               NaN             NaN               NaN   \n",
      "7255                NaN             NaN               NaN   \n",
      "30784               NaN             NaN               NaN   \n",
      "\n",
      "      settlement_percentage  settlement_term  \n",
      "89961                   NaN              NaN  \n",
      "32965                   NaN              NaN  \n",
      "1177                    NaN              NaN  \n",
      "75164                   NaN              NaN  \n",
      "27673                   NaN              NaN  \n",
      "16928                   NaN              NaN  \n",
      "63485                   NaN              NaN  \n",
      "276                     NaN              NaN  \n",
      "84336                   NaN              NaN  \n",
      "8855                    NaN              NaN  \n",
      "78144                   NaN              NaN  \n",
      "55897                   NaN              NaN  \n",
      "95052                   NaN              NaN  \n",
      "84605                   NaN              NaN  \n",
      "89355                   NaN              NaN  \n",
      "35409                   NaN              NaN  \n",
      "90835                   NaN              NaN  \n",
      "82873                   NaN              NaN  \n",
      "7255                    NaN              NaN  \n",
      "30784                   NaN              NaN  \n",
      "\n",
      "[20 rows x 151 columns]\n"
     ]
    }
   ],
   "source": [
    "print(df.sample(20))"
   ]
  },
  {
   "cell_type": "code",
   "execution_count": 10,
   "id": "866fdc73-bc31-4697-aac5-f6e294f7270d",
   "metadata": {},
   "outputs": [
    {
     "name": "stdout",
     "output_type": "stream",
     "text": [
      "<class 'pandas.core.frame.DataFrame'>\n",
      "RangeIndex: 96781 entries, 0 to 96780\n",
      "Columns: 151 entries, id to settlement_term\n",
      "dtypes: float64(112), object(39)\n",
      "memory usage: 111.5+ MB\n"
     ]
    }
   ],
   "source": [
    "df.info()  # Cela te donnera un résumé du DataFrame\n"
   ]
  },
  {
   "cell_type": "code",
   "execution_count": 11,
   "id": "a594a02b-59d2-46ef-92e0-8d537e2ec76c",
   "metadata": {},
   "outputs": [
    {
     "name": "stdout",
     "output_type": "stream",
     "text": [
      "C:\\Users\\ninao\\Desktop\\practica\\practica0\\notebooks\n"
     ]
    }
   ],
   "source": [
    "import os\n",
    "\n",
    "# Afficher le répertoire de travail courant\n",
    "print(os.getcwd())\n"
   ]
  },
  {
   "cell_type": "code",
   "execution_count": 12,
   "id": "d2725133-334e-4544-9343-220111d13b9e",
   "metadata": {},
   "outputs": [
    {
     "data": {
      "application/vnd.jupyter.widget-view+json": {
       "model_id": "8db61995e0df4cd7ac35eb17c40e3ad8",
       "version_major": 2,
       "version_minor": 0
      },
      "text/plain": [
       "                                             |                                             | [  0%]   00:00 ->…"
      ]
     },
     "metadata": {},
     "output_type": "display_data"
    },
    {
     "name": "stderr",
     "output_type": "stream",
     "text": [
      "C:\\Users\\ninao\\anaconda3\\Lib\\site-packages\\numpy\\lib\\function_base.py:2889: RuntimeWarning: Degrees of freedom <= 0 for slice\n",
      "  c = cov(x, y, rowvar, dtype=dtype)\n",
      "C:\\Users\\ninao\\anaconda3\\Lib\\site-packages\\sweetviz\\graph_associations.py:219: PerformanceWarning: DataFrame is highly fragmented.  This is usually the result of calling `frame.insert` many times, which has poor performance.  Consider joining all columns at once using pd.concat(axis=1) instead. To get a de-fragmented frame, use `newframe = frame.copy()`\n",
      "  new_dataframe[feature] = pd.Series(dtype=float)\n",
      "C:\\Users\\ninao\\anaconda3\\Lib\\site-packages\\sweetviz\\graph_associations.py:219: PerformanceWarning: DataFrame is highly fragmented.  This is usually the result of calling `frame.insert` many times, which has poor performance.  Consider joining all columns at once using pd.concat(axis=1) instead. To get a de-fragmented frame, use `newframe = frame.copy()`\n",
      "  new_dataframe[feature] = pd.Series(dtype=float)\n",
      "C:\\Users\\ninao\\anaconda3\\Lib\\site-packages\\sweetviz\\graph_associations.py:219: PerformanceWarning: DataFrame is highly fragmented.  This is usually the result of calling `frame.insert` many times, which has poor performance.  Consider joining all columns at once using pd.concat(axis=1) instead. To get a de-fragmented frame, use `newframe = frame.copy()`\n",
      "  new_dataframe[feature] = pd.Series(dtype=float)\n",
      "C:\\Users\\ninao\\anaconda3\\Lib\\site-packages\\sweetviz\\graph_associations.py:219: PerformanceWarning: DataFrame is highly fragmented.  This is usually the result of calling `frame.insert` many times, which has poor performance.  Consider joining all columns at once using pd.concat(axis=1) instead. To get a de-fragmented frame, use `newframe = frame.copy()`\n",
      "  new_dataframe[feature] = pd.Series(dtype=float)\n",
      "C:\\Users\\ninao\\anaconda3\\Lib\\site-packages\\sweetviz\\graph_associations.py:219: PerformanceWarning: DataFrame is highly fragmented.  This is usually the result of calling `frame.insert` many times, which has poor performance.  Consider joining all columns at once using pd.concat(axis=1) instead. To get a de-fragmented frame, use `newframe = frame.copy()`\n",
      "  new_dataframe[feature] = pd.Series(dtype=float)\n",
      "C:\\Users\\ninao\\anaconda3\\Lib\\site-packages\\sweetviz\\graph_associations.py:219: PerformanceWarning: DataFrame is highly fragmented.  This is usually the result of calling `frame.insert` many times, which has poor performance.  Consider joining all columns at once using pd.concat(axis=1) instead. To get a de-fragmented frame, use `newframe = frame.copy()`\n",
      "  new_dataframe[feature] = pd.Series(dtype=float)\n",
      "C:\\Users\\ninao\\anaconda3\\Lib\\site-packages\\sweetviz\\graph_associations.py:219: PerformanceWarning: DataFrame is highly fragmented.  This is usually the result of calling `frame.insert` many times, which has poor performance.  Consider joining all columns at once using pd.concat(axis=1) instead. To get a de-fragmented frame, use `newframe = frame.copy()`\n",
      "  new_dataframe[feature] = pd.Series(dtype=float)\n",
      "C:\\Users\\ninao\\anaconda3\\Lib\\site-packages\\sweetviz\\graph_associations.py:219: PerformanceWarning: DataFrame is highly fragmented.  This is usually the result of calling `frame.insert` many times, which has poor performance.  Consider joining all columns at once using pd.concat(axis=1) instead. To get a de-fragmented frame, use `newframe = frame.copy()`\n",
      "  new_dataframe[feature] = pd.Series(dtype=float)\n",
      "C:\\Users\\ninao\\anaconda3\\Lib\\site-packages\\sweetviz\\graph_associations.py:219: PerformanceWarning: DataFrame is highly fragmented.  This is usually the result of calling `frame.insert` many times, which has poor performance.  Consider joining all columns at once using pd.concat(axis=1) instead. To get a de-fragmented frame, use `newframe = frame.copy()`\n",
      "  new_dataframe[feature] = pd.Series(dtype=float)\n",
      "C:\\Users\\ninao\\anaconda3\\Lib\\site-packages\\sweetviz\\graph_associations.py:219: PerformanceWarning: DataFrame is highly fragmented.  This is usually the result of calling `frame.insert` many times, which has poor performance.  Consider joining all columns at once using pd.concat(axis=1) instead. To get a de-fragmented frame, use `newframe = frame.copy()`\n",
      "  new_dataframe[feature] = pd.Series(dtype=float)\n",
      "C:\\Users\\ninao\\anaconda3\\Lib\\site-packages\\sweetviz\\graph_associations.py:219: PerformanceWarning: DataFrame is highly fragmented.  This is usually the result of calling `frame.insert` many times, which has poor performance.  Consider joining all columns at once using pd.concat(axis=1) instead. To get a de-fragmented frame, use `newframe = frame.copy()`\n",
      "  new_dataframe[feature] = pd.Series(dtype=float)\n",
      "C:\\Users\\ninao\\anaconda3\\Lib\\site-packages\\sweetviz\\graph_associations.py:219: PerformanceWarning: DataFrame is highly fragmented.  This is usually the result of calling `frame.insert` many times, which has poor performance.  Consider joining all columns at once using pd.concat(axis=1) instead. To get a de-fragmented frame, use `newframe = frame.copy()`\n",
      "  new_dataframe[feature] = pd.Series(dtype=float)\n",
      "C:\\Users\\ninao\\anaconda3\\Lib\\site-packages\\sweetviz\\graph_associations.py:219: PerformanceWarning: DataFrame is highly fragmented.  This is usually the result of calling `frame.insert` many times, which has poor performance.  Consider joining all columns at once using pd.concat(axis=1) instead. To get a de-fragmented frame, use `newframe = frame.copy()`\n",
      "  new_dataframe[feature] = pd.Series(dtype=float)\n",
      "C:\\Users\\ninao\\anaconda3\\Lib\\site-packages\\sweetviz\\graph_associations.py:219: PerformanceWarning: DataFrame is highly fragmented.  This is usually the result of calling `frame.insert` many times, which has poor performance.  Consider joining all columns at once using pd.concat(axis=1) instead. To get a de-fragmented frame, use `newframe = frame.copy()`\n",
      "  new_dataframe[feature] = pd.Series(dtype=float)\n",
      "C:\\Users\\ninao\\anaconda3\\Lib\\site-packages\\sweetviz\\graph_associations.py:219: PerformanceWarning: DataFrame is highly fragmented.  This is usually the result of calling `frame.insert` many times, which has poor performance.  Consider joining all columns at once using pd.concat(axis=1) instead. To get a de-fragmented frame, use `newframe = frame.copy()`\n",
      "  new_dataframe[feature] = pd.Series(dtype=float)\n",
      "C:\\Users\\ninao\\anaconda3\\Lib\\site-packages\\sweetviz\\graph_associations.py:219: PerformanceWarning: DataFrame is highly fragmented.  This is usually the result of calling `frame.insert` many times, which has poor performance.  Consider joining all columns at once using pd.concat(axis=1) instead. To get a de-fragmented frame, use `newframe = frame.copy()`\n",
      "  new_dataframe[feature] = pd.Series(dtype=float)\n",
      "C:\\Users\\ninao\\anaconda3\\Lib\\site-packages\\sweetviz\\graph_associations.py:219: PerformanceWarning: DataFrame is highly fragmented.  This is usually the result of calling `frame.insert` many times, which has poor performance.  Consider joining all columns at once using pd.concat(axis=1) instead. To get a de-fragmented frame, use `newframe = frame.copy()`\n",
      "  new_dataframe[feature] = pd.Series(dtype=float)\n",
      "C:\\Users\\ninao\\anaconda3\\Lib\\site-packages\\sweetviz\\graph_associations.py:219: PerformanceWarning: DataFrame is highly fragmented.  This is usually the result of calling `frame.insert` many times, which has poor performance.  Consider joining all columns at once using pd.concat(axis=1) instead. To get a de-fragmented frame, use `newframe = frame.copy()`\n",
      "  new_dataframe[feature] = pd.Series(dtype=float)\n",
      "C:\\Users\\ninao\\anaconda3\\Lib\\site-packages\\sweetviz\\graph_associations.py:219: PerformanceWarning: DataFrame is highly fragmented.  This is usually the result of calling `frame.insert` many times, which has poor performance.  Consider joining all columns at once using pd.concat(axis=1) instead. To get a de-fragmented frame, use `newframe = frame.copy()`\n",
      "  new_dataframe[feature] = pd.Series(dtype=float)\n",
      "C:\\Users\\ninao\\anaconda3\\Lib\\site-packages\\sweetviz\\graph_associations.py:219: PerformanceWarning: DataFrame is highly fragmented.  This is usually the result of calling `frame.insert` many times, which has poor performance.  Consider joining all columns at once using pd.concat(axis=1) instead. To get a de-fragmented frame, use `newframe = frame.copy()`\n",
      "  new_dataframe[feature] = pd.Series(dtype=float)\n",
      "C:\\Users\\ninao\\anaconda3\\Lib\\site-packages\\sweetviz\\graph_associations.py:219: PerformanceWarning: DataFrame is highly fragmented.  This is usually the result of calling `frame.insert` many times, which has poor performance.  Consider joining all columns at once using pd.concat(axis=1) instead. To get a de-fragmented frame, use `newframe = frame.copy()`\n",
      "  new_dataframe[feature] = pd.Series(dtype=float)\n",
      "C:\\Users\\ninao\\anaconda3\\Lib\\site-packages\\sweetviz\\graph_associations.py:219: PerformanceWarning: DataFrame is highly fragmented.  This is usually the result of calling `frame.insert` many times, which has poor performance.  Consider joining all columns at once using pd.concat(axis=1) instead. To get a de-fragmented frame, use `newframe = frame.copy()`\n",
      "  new_dataframe[feature] = pd.Series(dtype=float)\n",
      "C:\\Users\\ninao\\anaconda3\\Lib\\site-packages\\sweetviz\\graph_associations.py:219: PerformanceWarning: DataFrame is highly fragmented.  This is usually the result of calling `frame.insert` many times, which has poor performance.  Consider joining all columns at once using pd.concat(axis=1) instead. To get a de-fragmented frame, use `newframe = frame.copy()`\n",
      "  new_dataframe[feature] = pd.Series(dtype=float)\n",
      "C:\\Users\\ninao\\anaconda3\\Lib\\site-packages\\sweetviz\\graph_associations.py:219: PerformanceWarning: DataFrame is highly fragmented.  This is usually the result of calling `frame.insert` many times, which has poor performance.  Consider joining all columns at once using pd.concat(axis=1) instead. To get a de-fragmented frame, use `newframe = frame.copy()`\n",
      "  new_dataframe[feature] = pd.Series(dtype=float)\n",
      "C:\\Users\\ninao\\anaconda3\\Lib\\site-packages\\sweetviz\\graph_associations.py:219: PerformanceWarning: DataFrame is highly fragmented.  This is usually the result of calling `frame.insert` many times, which has poor performance.  Consider joining all columns at once using pd.concat(axis=1) instead. To get a de-fragmented frame, use `newframe = frame.copy()`\n",
      "  new_dataframe[feature] = pd.Series(dtype=float)\n",
      "C:\\Users\\ninao\\anaconda3\\Lib\\site-packages\\sweetviz\\graph_associations.py:219: PerformanceWarning: DataFrame is highly fragmented.  This is usually the result of calling `frame.insert` many times, which has poor performance.  Consider joining all columns at once using pd.concat(axis=1) instead. To get a de-fragmented frame, use `newframe = frame.copy()`\n",
      "  new_dataframe[feature] = pd.Series(dtype=float)\n",
      "C:\\Users\\ninao\\anaconda3\\Lib\\site-packages\\sweetviz\\graph_associations.py:219: PerformanceWarning: DataFrame is highly fragmented.  This is usually the result of calling `frame.insert` many times, which has poor performance.  Consider joining all columns at once using pd.concat(axis=1) instead. To get a de-fragmented frame, use `newframe = frame.copy()`\n",
      "  new_dataframe[feature] = pd.Series(dtype=float)\n",
      "C:\\Users\\ninao\\anaconda3\\Lib\\site-packages\\sweetviz\\graph_associations.py:219: PerformanceWarning: DataFrame is highly fragmented.  This is usually the result of calling `frame.insert` many times, which has poor performance.  Consider joining all columns at once using pd.concat(axis=1) instead. To get a de-fragmented frame, use `newframe = frame.copy()`\n",
      "  new_dataframe[feature] = pd.Series(dtype=float)\n",
      "C:\\Users\\ninao\\anaconda3\\Lib\\site-packages\\sweetviz\\graph_associations.py:219: PerformanceWarning: DataFrame is highly fragmented.  This is usually the result of calling `frame.insert` many times, which has poor performance.  Consider joining all columns at once using pd.concat(axis=1) instead. To get a de-fragmented frame, use `newframe = frame.copy()`\n",
      "  new_dataframe[feature] = pd.Series(dtype=float)\n",
      "C:\\Users\\ninao\\anaconda3\\Lib\\site-packages\\sweetviz\\graph_associations.py:219: PerformanceWarning: DataFrame is highly fragmented.  This is usually the result of calling `frame.insert` many times, which has poor performance.  Consider joining all columns at once using pd.concat(axis=1) instead. To get a de-fragmented frame, use `newframe = frame.copy()`\n",
      "  new_dataframe[feature] = pd.Series(dtype=float)\n",
      "C:\\Users\\ninao\\anaconda3\\Lib\\site-packages\\sweetviz\\graph_associations.py:219: PerformanceWarning: DataFrame is highly fragmented.  This is usually the result of calling `frame.insert` many times, which has poor performance.  Consider joining all columns at once using pd.concat(axis=1) instead. To get a de-fragmented frame, use `newframe = frame.copy()`\n",
      "  new_dataframe[feature] = pd.Series(dtype=float)\n",
      "C:\\Users\\ninao\\anaconda3\\Lib\\site-packages\\sweetviz\\graph_associations.py:219: PerformanceWarning: DataFrame is highly fragmented.  This is usually the result of calling `frame.insert` many times, which has poor performance.  Consider joining all columns at once using pd.concat(axis=1) instead. To get a de-fragmented frame, use `newframe = frame.copy()`\n",
      "  new_dataframe[feature] = pd.Series(dtype=float)\n",
      "C:\\Users\\ninao\\anaconda3\\Lib\\site-packages\\sweetviz\\graph_associations.py:219: PerformanceWarning: DataFrame is highly fragmented.  This is usually the result of calling `frame.insert` many times, which has poor performance.  Consider joining all columns at once using pd.concat(axis=1) instead. To get a de-fragmented frame, use `newframe = frame.copy()`\n",
      "  new_dataframe[feature] = pd.Series(dtype=float)\n",
      "C:\\Users\\ninao\\anaconda3\\Lib\\site-packages\\sweetviz\\graph_associations.py:219: PerformanceWarning: DataFrame is highly fragmented.  This is usually the result of calling `frame.insert` many times, which has poor performance.  Consider joining all columns at once using pd.concat(axis=1) instead. To get a de-fragmented frame, use `newframe = frame.copy()`\n",
      "  new_dataframe[feature] = pd.Series(dtype=float)\n",
      "C:\\Users\\ninao\\anaconda3\\Lib\\site-packages\\sweetviz\\graph_associations.py:219: PerformanceWarning: DataFrame is highly fragmented.  This is usually the result of calling `frame.insert` many times, which has poor performance.  Consider joining all columns at once using pd.concat(axis=1) instead. To get a de-fragmented frame, use `newframe = frame.copy()`\n",
      "  new_dataframe[feature] = pd.Series(dtype=float)\n",
      "C:\\Users\\ninao\\anaconda3\\Lib\\site-packages\\sweetviz\\graph_associations.py:219: PerformanceWarning: DataFrame is highly fragmented.  This is usually the result of calling `frame.insert` many times, which has poor performance.  Consider joining all columns at once using pd.concat(axis=1) instead. To get a de-fragmented frame, use `newframe = frame.copy()`\n",
      "  new_dataframe[feature] = pd.Series(dtype=float)\n",
      "C:\\Users\\ninao\\anaconda3\\Lib\\site-packages\\sweetviz\\graph_associations.py:219: PerformanceWarning: DataFrame is highly fragmented.  This is usually the result of calling `frame.insert` many times, which has poor performance.  Consider joining all columns at once using pd.concat(axis=1) instead. To get a de-fragmented frame, use `newframe = frame.copy()`\n",
      "  new_dataframe[feature] = pd.Series(dtype=float)\n",
      "C:\\Users\\ninao\\anaconda3\\Lib\\site-packages\\sweetviz\\graph_associations.py:219: PerformanceWarning: DataFrame is highly fragmented.  This is usually the result of calling `frame.insert` many times, which has poor performance.  Consider joining all columns at once using pd.concat(axis=1) instead. To get a de-fragmented frame, use `newframe = frame.copy()`\n",
      "  new_dataframe[feature] = pd.Series(dtype=float)\n",
      "C:\\Users\\ninao\\anaconda3\\Lib\\site-packages\\sweetviz\\graph_associations.py:219: PerformanceWarning: DataFrame is highly fragmented.  This is usually the result of calling `frame.insert` many times, which has poor performance.  Consider joining all columns at once using pd.concat(axis=1) instead. To get a de-fragmented frame, use `newframe = frame.copy()`\n",
      "  new_dataframe[feature] = pd.Series(dtype=float)\n",
      "C:\\Users\\ninao\\anaconda3\\Lib\\site-packages\\sweetviz\\graph_associations.py:219: PerformanceWarning: DataFrame is highly fragmented.  This is usually the result of calling `frame.insert` many times, which has poor performance.  Consider joining all columns at once using pd.concat(axis=1) instead. To get a de-fragmented frame, use `newframe = frame.copy()`\n",
      "  new_dataframe[feature] = pd.Series(dtype=float)\n",
      "C:\\Users\\ninao\\anaconda3\\Lib\\site-packages\\sweetviz\\graph_associations.py:219: PerformanceWarning: DataFrame is highly fragmented.  This is usually the result of calling `frame.insert` many times, which has poor performance.  Consider joining all columns at once using pd.concat(axis=1) instead. To get a de-fragmented frame, use `newframe = frame.copy()`\n",
      "  new_dataframe[feature] = pd.Series(dtype=float)\n",
      "C:\\Users\\ninao\\anaconda3\\Lib\\site-packages\\sweetviz\\graph_associations.py:219: PerformanceWarning: DataFrame is highly fragmented.  This is usually the result of calling `frame.insert` many times, which has poor performance.  Consider joining all columns at once using pd.concat(axis=1) instead. To get a de-fragmented frame, use `newframe = frame.copy()`\n",
      "  new_dataframe[feature] = pd.Series(dtype=float)\n"
     ]
    }
   ],
   "source": [
    "report = sv.analyze(df)"
   ]
  },
  {
   "cell_type": "code",
   "execution_count": 13,
   "id": "84697043-634f-4db3-9431-1552e6049f17",
   "metadata": {},
   "outputs": [
    {
     "name": "stdout",
     "output_type": "stream",
     "text": [
      "Report C:\\Users\\ninao\\Desktop\\practica\\practica0\\notebooks\\report_sweetviz_v1.html was generated! NOTEBOOK/COLAB USERS: the web browser MAY not pop up, regardless, the report IS saved in your notebook/colab files.\n",
      "---\n",
      "WARNING: one or more correlations had an edge-case/error and a 1.0 correlation was assigned\n",
      "(likely due to only having a single row, containing non-NaN values for both correlated features)\n",
      "Affected correlations:['recoveries/revol_bal_joint', 'recoveries/sec_app_fico_range_low', 'recoveries/sec_app_fico_range_high', 'recoveries/sec_app_mort_acc', 'recoveries/sec_app_open_acc', 'recoveries/sec_app_revol_util', 'recoveries/sec_app_open_act_il', 'recoveries/sec_app_num_rev_accts', 'recoveries/sec_app_mths_since_last_major_derog', 'recoveries/hardship_amount', 'recoveries/hardship_dpd', 'recoveries/orig_projected_additional_accrued_interest', 'recoveries/hardship_payoff_balance_amount', 'recoveries/hardship_last_payment_amount', 'collection_recovery_fee/revol_bal_joint', 'collection_recovery_fee/sec_app_fico_range_low', 'collection_recovery_fee/sec_app_fico_range_high', 'collection_recovery_fee/sec_app_mort_acc', 'collection_recovery_fee/sec_app_open_acc', 'collection_recovery_fee/sec_app_revol_util', 'collection_recovery_fee/sec_app_open_act_il', 'collection_recovery_fee/sec_app_num_rev_accts', 'collection_recovery_fee/sec_app_mths_since_last_major_derog', 'collection_recovery_fee/hardship_amount', 'collection_recovery_fee/hardship_dpd', 'collection_recovery_fee/orig_projected_additional_accrued_interest', 'collection_recovery_fee/hardship_payoff_balance_amount', 'collection_recovery_fee/hardship_last_payment_amount', 'annual_inc_joint/settlement_amount', 'annual_inc_joint/settlement_percentage', 'annual_inc_joint/settlement_term', 'dti_joint/settlement_amount', 'dti_joint/settlement_percentage', 'dti_joint/settlement_term', 'delinq_amnt/sec_app_mths_since_last_major_derog', 'delinq_amnt/hardship_amount', 'delinq_amnt/hardship_dpd', 'delinq_amnt/orig_projected_additional_accrued_interest', 'delinq_amnt/hardship_payoff_balance_amount', 'delinq_amnt/hardship_last_payment_amount', 'revol_bal_joint/recoveries', 'revol_bal_joint/collection_recovery_fee', 'revol_bal_joint/hardship_amount', 'revol_bal_joint/hardship_dpd', 'revol_bal_joint/orig_projected_additional_accrued_interest', 'revol_bal_joint/hardship_payoff_balance_amount', 'revol_bal_joint/hardship_last_payment_amount', 'sec_app_fico_range_low/recoveries', 'sec_app_fico_range_low/collection_recovery_fee', 'sec_app_fico_range_low/hardship_amount', 'sec_app_fico_range_low/hardship_dpd', 'sec_app_fico_range_low/orig_projected_additional_accrued_interest', 'sec_app_fico_range_low/hardship_payoff_balance_amount', 'sec_app_fico_range_low/hardship_last_payment_amount', 'sec_app_fico_range_high/recoveries', 'sec_app_fico_range_high/collection_recovery_fee', 'sec_app_fico_range_high/hardship_amount', 'sec_app_fico_range_high/hardship_dpd', 'sec_app_fico_range_high/orig_projected_additional_accrued_interest', 'sec_app_fico_range_high/hardship_payoff_balance_amount', 'sec_app_fico_range_high/hardship_last_payment_amount', 'sec_app_mort_acc/recoveries', 'sec_app_mort_acc/collection_recovery_fee', 'sec_app_mort_acc/hardship_amount', 'sec_app_mort_acc/hardship_dpd', 'sec_app_mort_acc/orig_projected_additional_accrued_interest', 'sec_app_mort_acc/hardship_payoff_balance_amount', 'sec_app_mort_acc/hardship_last_payment_amount', 'sec_app_open_acc/recoveries', 'sec_app_open_acc/collection_recovery_fee', 'sec_app_open_acc/hardship_amount', 'sec_app_open_acc/hardship_dpd', 'sec_app_open_acc/orig_projected_additional_accrued_interest', 'sec_app_open_acc/hardship_payoff_balance_amount', 'sec_app_open_acc/hardship_last_payment_amount', 'sec_app_revol_util/recoveries', 'sec_app_revol_util/collection_recovery_fee', 'sec_app_revol_util/hardship_amount', 'sec_app_revol_util/hardship_dpd', 'sec_app_revol_util/orig_projected_additional_accrued_interest', 'sec_app_revol_util/hardship_payoff_balance_amount', 'sec_app_revol_util/hardship_last_payment_amount', 'sec_app_open_act_il/recoveries', 'sec_app_open_act_il/collection_recovery_fee', 'sec_app_open_act_il/hardship_amount', 'sec_app_open_act_il/hardship_dpd', 'sec_app_open_act_il/orig_projected_additional_accrued_interest', 'sec_app_open_act_il/hardship_payoff_balance_amount', 'sec_app_open_act_il/hardship_last_payment_amount', 'sec_app_num_rev_accts/recoveries', 'sec_app_num_rev_accts/collection_recovery_fee', 'sec_app_num_rev_accts/hardship_amount', 'sec_app_num_rev_accts/hardship_dpd', 'sec_app_num_rev_accts/orig_projected_additional_accrued_interest', 'sec_app_num_rev_accts/hardship_payoff_balance_amount', 'sec_app_num_rev_accts/hardship_last_payment_amount', 'sec_app_mths_since_last_major_derog/recoveries', 'sec_app_mths_since_last_major_derog/collection_recovery_fee', 'sec_app_mths_since_last_major_derog/delinq_amnt', 'hardship_amount/recoveries', 'hardship_amount/collection_recovery_fee', 'hardship_amount/delinq_amnt', 'hardship_amount/revol_bal_joint', 'hardship_amount/sec_app_fico_range_low', 'hardship_amount/sec_app_fico_range_high', 'hardship_amount/sec_app_mort_acc', 'hardship_amount/sec_app_open_acc', 'hardship_amount/sec_app_revol_util', 'hardship_amount/sec_app_open_act_il', 'hardship_amount/sec_app_num_rev_accts', 'hardship_amount/settlement_amount', 'hardship_amount/settlement_percentage', 'hardship_amount/settlement_term', 'hardship_dpd/recoveries', 'hardship_dpd/collection_recovery_fee', 'hardship_dpd/delinq_amnt', 'hardship_dpd/revol_bal_joint', 'hardship_dpd/sec_app_fico_range_low', 'hardship_dpd/sec_app_fico_range_high', 'hardship_dpd/sec_app_mort_acc', 'hardship_dpd/sec_app_open_acc', 'hardship_dpd/sec_app_revol_util', 'hardship_dpd/sec_app_open_act_il', 'hardship_dpd/sec_app_num_rev_accts', 'hardship_dpd/settlement_amount', 'hardship_dpd/settlement_percentage', 'hardship_dpd/settlement_term', 'orig_projected_additional_accrued_interest/recoveries', 'orig_projected_additional_accrued_interest/collection_recovery_fee', 'orig_projected_additional_accrued_interest/delinq_amnt', 'orig_projected_additional_accrued_interest/revol_bal_joint', 'orig_projected_additional_accrued_interest/sec_app_fico_range_low', 'orig_projected_additional_accrued_interest/sec_app_fico_range_high', 'orig_projected_additional_accrued_interest/sec_app_mort_acc', 'orig_projected_additional_accrued_interest/sec_app_open_acc', 'orig_projected_additional_accrued_interest/sec_app_revol_util', 'orig_projected_additional_accrued_interest/sec_app_open_act_il', 'orig_projected_additional_accrued_interest/sec_app_num_rev_accts', 'hardship_payoff_balance_amount/recoveries', 'hardship_payoff_balance_amount/collection_recovery_fee', 'hardship_payoff_balance_amount/delinq_amnt', 'hardship_payoff_balance_amount/revol_bal_joint', 'hardship_payoff_balance_amount/sec_app_fico_range_low', 'hardship_payoff_balance_amount/sec_app_fico_range_high', 'hardship_payoff_balance_amount/sec_app_mort_acc', 'hardship_payoff_balance_amount/sec_app_open_acc', 'hardship_payoff_balance_amount/sec_app_revol_util', 'hardship_payoff_balance_amount/sec_app_open_act_il', 'hardship_payoff_balance_amount/sec_app_num_rev_accts', 'hardship_payoff_balance_amount/settlement_amount', 'hardship_payoff_balance_amount/settlement_percentage', 'hardship_payoff_balance_amount/settlement_term', 'hardship_last_payment_amount/recoveries', 'hardship_last_payment_amount/collection_recovery_fee', 'hardship_last_payment_amount/delinq_amnt', 'hardship_last_payment_amount/revol_bal_joint', 'hardship_last_payment_amount/sec_app_fico_range_low', 'hardship_last_payment_amount/sec_app_fico_range_high', 'hardship_last_payment_amount/sec_app_mort_acc', 'hardship_last_payment_amount/sec_app_open_acc', 'hardship_last_payment_amount/sec_app_revol_util', 'hardship_last_payment_amount/sec_app_open_act_il', 'hardship_last_payment_amount/sec_app_num_rev_accts', 'hardship_last_payment_amount/settlement_amount', 'hardship_last_payment_amount/settlement_percentage', 'hardship_last_payment_amount/settlement_term', 'settlement_amount/annual_inc_joint', 'settlement_amount/dti_joint', 'settlement_amount/hardship_amount', 'settlement_amount/hardship_dpd', 'settlement_amount/hardship_payoff_balance_amount', 'settlement_amount/hardship_last_payment_amount', 'settlement_percentage/annual_inc_joint', 'settlement_percentage/dti_joint', 'settlement_percentage/hardship_amount', 'settlement_percentage/hardship_dpd', 'settlement_percentage/hardship_payoff_balance_amount', 'settlement_percentage/hardship_last_payment_amount', 'settlement_term/annual_inc_joint', 'settlement_term/dti_joint', 'settlement_term/hardship_amount', 'settlement_term/hardship_dpd', 'settlement_term/hardship_payoff_balance_amount', 'settlement_term/hardship_last_payment_amount']\n"
     ]
    }
   ],
   "source": [
    "report.show_html(r'C:\\Users\\ninao\\Desktop\\practica\\practica0\\notebooks\\report_sweetviz_v1.html')"
   ]
  },
  {
   "cell_type": "code",
   "execution_count": 14,
   "id": "ed974782-5d8a-48a9-a2b1-f688b041ea43",
   "metadata": {},
   "outputs": [
    {
     "name": "stdout",
     "output_type": "stream",
     "text": [
      "7.8.1\n",
      "2.3.1\n"
     ]
    }
   ],
   "source": [
    "import ipywidgets as widgets\n",
    "print(widgets.__version__)\n",
    "\n",
    "import sweetviz as sv\n",
    "print(sv.__version__)\n"
   ]
  },
  {
   "cell_type": "code",
   "execution_count": 15,
   "id": "a3a00c26-77bc-47b0-8042-8e6e1f2d0d35",
   "metadata": {},
   "outputs": [
    {
     "name": "stdout",
     "output_type": "stream",
     "text": [
      "Le fichier n'existe pas.\n"
     ]
    }
   ],
   "source": [
    "import os\n",
    "\n",
    "# Vérifie si le fichier existe\n",
    "file_path = r'C:\\Users\\ninao\\Desktop\\practica\\practica0\\notebooks\\rapport_sweetviz.html'\n",
    "if os.path.exists(file_path):\n",
    "    print(\"Le fichier existe déjà :\", file_path)\n",
    "else:\n",
    "    print(\"Le fichier n'existe pas.\")\n"
   ]
  },
  {
   "cell_type": "code",
   "execution_count": null,
   "id": "d53a8afe-071d-49d2-be67-debfe3ee4b40",
   "metadata": {},
   "outputs": [],
   "source": []
  }
 ],
 "metadata": {
  "kernelspec": {
   "display_name": "Python 3 (ipykernel)",
   "language": "python",
   "name": "python3"
  },
  "language_info": {
   "codemirror_mode": {
    "name": "ipython",
    "version": 3
   },
   "file_extension": ".py",
   "mimetype": "text/x-python",
   "name": "python",
   "nbconvert_exporter": "python",
   "pygments_lexer": "ipython3",
   "version": "3.12.4"
  }
 },
 "nbformat": 4,
 "nbformat_minor": 5
}
